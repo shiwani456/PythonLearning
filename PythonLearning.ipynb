{
  "nbformat": 4,
  "nbformat_minor": 0,
  "metadata": {
    "colab": {
      "provenance": [],
      "authorship_tag": "ABX9TyOBSB5KBWS1UrD/w3EEg5N6",
      "include_colab_link": true
    },
    "kernelspec": {
      "name": "python3",
      "display_name": "Python 3"
    },
    "language_info": {
      "name": "python"
    }
  },
  "cells": [
    {
      "cell_type": "markdown",
      "metadata": {
        "id": "view-in-github",
        "colab_type": "text"
      },
      "source": [
        "<a href=\"https://colab.research.google.com/github/shiwani456/PythonLearning/blob/main/PythonLearning.ipynb\" target=\"_parent\"><img src=\"https://colab.research.google.com/assets/colab-badge.svg\" alt=\"Open In Colab\"/></a>"
      ]
    },
    {
      "cell_type": "code",
      "execution_count": null,
      "metadata": {
        "colab": {
          "base_uri": "https://localhost:8080/"
        },
        "id": "WO_0bHDqk0N6",
        "outputId": "a91262ec-bae8-434e-d3f1-10a5acb1c6b3"
      },
      "outputs": [
        {
          "output_type": "stream",
          "name": "stdout",
          "text": [
            "Testing\n"
          ]
        }
      ],
      "source": [
        "#Print_Function_Use\n",
        "print('Testing')"
      ]
    },
    {
      "cell_type": "code",
      "source": [
        "print(7/5)"
      ],
      "metadata": {
        "id": "UVxZEZ_dYgYG",
        "outputId": "b794371f-ab71-4dc1-efd5-dda9f11dd07b",
        "colab": {
          "base_uri": "https://localhost:8080/"
        }
      },
      "execution_count": null,
      "outputs": [
        {
          "output_type": "stream",
          "name": "stdout",
          "text": [
            "1.4\n"
          ]
        }
      ]
    },
    {
      "cell_type": "code",
      "source": [
        "!python --version"
      ],
      "metadata": {
        "id": "XQfHYTe1e3zN",
        "outputId": "654e5fa1-01b5-4b8d-82b6-b6bde0d99e4f",
        "colab": {
          "base_uri": "https://localhost:8080/"
        }
      },
      "execution_count": null,
      "outputs": [
        {
          "output_type": "stream",
          "name": "stdout",
          "text": [
            "Python 3.10.6\n"
          ]
        }
      ]
    },
    {
      "cell_type": "code",
      "source": [
        "print(type(\"hello\"))\n",
        "print(type(5.8))\n",
        "print(type(b'hi'))\n",
        "print(type(u'hi'))"
      ],
      "metadata": {
        "id": "rBOR4DBdf6QS",
        "outputId": "d03f1421-3bb0-4280-d38c-b306d30ab546",
        "colab": {
          "base_uri": "https://localhost:8080/"
        }
      },
      "execution_count": null,
      "outputs": [
        {
          "output_type": "stream",
          "name": "stdout",
          "text": [
            "<class 'str'>\n",
            "<class 'float'>\n",
            "<class 'bytes'>\n",
            "<class 'str'>\n"
          ]
        }
      ]
    },
    {
      "cell_type": "code",
      "source": [
        "#looping\n",
        "for x in range(1,5):\n",
        "  print(x),"
      ],
      "metadata": {
        "id": "hXoMzk_OgVg0",
        "outputId": "dacea923-e9a6-4fe0-c4c2-a09b0bf52a2f",
        "colab": {
          "base_uri": "https://localhost:8080/"
        }
      },
      "execution_count": null,
      "outputs": [
        {
          "output_type": "stream",
          "name": "stdout",
          "text": [
            "1\n",
            "2\n",
            "3\n",
            "4\n"
          ]
        }
      ]
    },
    {
      "cell_type": "code",
      "source": [
        "#try and catch\n",
        "try:\n",
        "\n",
        "     trying_to_check_error\n",
        "\n",
        "except NameError as err:\n",
        "\n",
        "     print (err, 'Error Caused')"
      ],
      "metadata": {
        "id": "jdA0Hhl7g3CZ",
        "outputId": "49c390d9-414b-406f-9130-5c8cc3e12274",
        "colab": {
          "base_uri": "https://localhost:8080/"
        }
      },
      "execution_count": null,
      "outputs": [
        {
          "output_type": "stream",
          "name": "stdout",
          "text": [
            "name 'trying_to_check_error' is not defined Error Caused\n"
          ]
        }
      ]
    },
    {
      "cell_type": "code",
      "source": [
        "#arithimatic operator\n",
        "age1=12\n",
        "age2=18\n",
        "sum =  age1 + age2\n",
        "diff = age2- age1\n",
        "mul = age2 * age1\n",
        "div= age2/age1\n",
        "mod = age2 % age1\n",
        "print(sum,diff,mul,div,mod)\n",
        "\n",
        "#String\n",
        "first_name = \"stud\"\n",
        "last_name = \"stu\"\n",
        "\n",
        "print (first_name+\" \"+last_name)\n",
        "#print(first_name - last_name) --> give error\n",
        "print(first_name*5)\n",
        "\n",
        "sent = \"Avi is playing basketball\"\n",
        "print(sent[0])\n",
        "print(sent[0:3])"
      ],
      "metadata": {
        "id": "eV1HknpbijP7",
        "outputId": "dec2d6dd-7d6d-45c6-f73e-ad139b98dd8a",
        "colab": {
          "base_uri": "https://localhost:8080/"
        }
      },
      "execution_count": 7,
      "outputs": [
        {
          "output_type": "stream",
          "name": "stdout",
          "text": [
            "30 6 216 1.5 6\n",
            "stud stu\n",
            "studstudstudstudstud\n",
            "A\n",
            "Avi\n"
          ]
        }
      ]
    }
  ]
}