{
  "nbformat": 4,
  "nbformat_minor": 0,
  "metadata": {
    "colab": {
      "provenance": [],
      "authorship_tag": "ABX9TyM9xuHg260IwBw0RBEpSk9l",
      "include_colab_link": true
    },
    "kernelspec": {
      "name": "python3",
      "display_name": "Python 3"
    },
    "language_info": {
      "name": "python"
    }
  },
  "cells": [
    {
      "cell_type": "markdown",
      "metadata": {
        "id": "view-in-github",
        "colab_type": "text"
      },
      "source": [
        "<a href=\"https://colab.research.google.com/github/shiwani456/PythonLearning/blob/main/PythonLearning.ipynb\" target=\"_parent\"><img src=\"https://colab.research.google.com/assets/colab-badge.svg\" alt=\"Open In Colab\"/></a>"
      ]
    },
    {
      "cell_type": "code",
      "execution_count": null,
      "metadata": {
        "colab": {
          "base_uri": "https://localhost:8080/"
        },
        "id": "WO_0bHDqk0N6",
        "outputId": "a91262ec-bae8-434e-d3f1-10a5acb1c6b3"
      },
      "outputs": [
        {
          "output_type": "stream",
          "name": "stdout",
          "text": [
            "Testing\n"
          ]
        }
      ],
      "source": [
        "#Print_Function_Use\n",
        "print('Testing')"
      ]
    },
    {
      "cell_type": "code",
      "source": [
        "print(7/5)"
      ],
      "metadata": {
        "id": "UVxZEZ_dYgYG",
        "outputId": "b794371f-ab71-4dc1-efd5-dda9f11dd07b",
        "colab": {
          "base_uri": "https://localhost:8080/"
        }
      },
      "execution_count": null,
      "outputs": [
        {
          "output_type": "stream",
          "name": "stdout",
          "text": [
            "1.4\n"
          ]
        }
      ]
    },
    {
      "cell_type": "code",
      "source": [
        "!python --version"
      ],
      "metadata": {
        "id": "XQfHYTe1e3zN",
        "outputId": "654e5fa1-01b5-4b8d-82b6-b6bde0d99e4f",
        "colab": {
          "base_uri": "https://localhost:8080/"
        }
      },
      "execution_count": null,
      "outputs": [
        {
          "output_type": "stream",
          "name": "stdout",
          "text": [
            "Python 3.10.6\n"
          ]
        }
      ]
    },
    {
      "cell_type": "code",
      "source": [
        "print(type(\"hello\"))\n",
        "print(type(5.8))\n",
        "print(type(b'hi'))\n",
        "print(type(u'hi'))"
      ],
      "metadata": {
        "id": "rBOR4DBdf6QS",
        "outputId": "d03f1421-3bb0-4280-d38c-b306d30ab546",
        "colab": {
          "base_uri": "https://localhost:8080/"
        }
      },
      "execution_count": null,
      "outputs": [
        {
          "output_type": "stream",
          "name": "stdout",
          "text": [
            "<class 'str'>\n",
            "<class 'float'>\n",
            "<class 'bytes'>\n",
            "<class 'str'>\n"
          ]
        }
      ]
    },
    {
      "cell_type": "code",
      "source": [
        "#looping\n",
        "for x in range(1,5):\n",
        "  print(x),"
      ],
      "metadata": {
        "id": "hXoMzk_OgVg0",
        "outputId": "dacea923-e9a6-4fe0-c4c2-a09b0bf52a2f",
        "colab": {
          "base_uri": "https://localhost:8080/"
        }
      },
      "execution_count": null,
      "outputs": [
        {
          "output_type": "stream",
          "name": "stdout",
          "text": [
            "1\n",
            "2\n",
            "3\n",
            "4\n"
          ]
        }
      ]
    },
    {
      "cell_type": "code",
      "source": [
        "#try and catch\n",
        "try:\n",
        "\n",
        "     trying_to_check_error\n",
        "\n",
        "except NameError as err:\n",
        "\n",
        "     print (err, 'Error Caused')"
      ],
      "metadata": {
        "id": "jdA0Hhl7g3CZ",
        "outputId": "49c390d9-414b-406f-9130-5c8cc3e12274",
        "colab": {
          "base_uri": "https://localhost:8080/"
        }
      },
      "execution_count": null,
      "outputs": [
        {
          "output_type": "stream",
          "name": "stdout",
          "text": [
            "name 'trying_to_check_error' is not defined Error Caused\n"
          ]
        }
      ]
    },
    {
      "cell_type": "code",
      "source": [
        "#arithimatic operator\n",
        "age1=12\n",
        "age2=18\n",
        "sum =  age1 + age2\n",
        "diff = age2- age1\n",
        "mul = age2 * age1\n",
        "div= age2/age1\n",
        "mod = age2 % age1\n",
        "print(sum,diff,mul,div,mod)\n",
        "\n",
        "#String\n",
        "first_name = \"stud\"\n",
        "last_name = \"stu\"\n",
        "\n",
        "print (first_name+\" \"+last_name)\n",
        "#print(first_name - last_name) --> give error\n",
        "print(first_name*5)\n",
        "\n",
        "sent = \"Avi is playing basketball\"\n",
        "print(sent[0])\n",
        "print(sent[0:3])\n",
        "print(sent[0:len(sent)])"
      ],
      "metadata": {
        "id": "eV1HknpbijP7",
        "outputId": "db2ddd9d-6732-4b87-95c7-dbd2ce8f8085",
        "colab": {
          "base_uri": "https://localhost:8080/"
        }
      },
      "execution_count": 9,
      "outputs": [
        {
          "output_type": "stream",
          "name": "stdout",
          "text": [
            "30 6 216 1.5 6\n",
            "stud stu\n",
            "studstudstudstudstud\n",
            "A\n",
            "Avi\n",
            "Avi is playing basketball\n"
          ]
        }
      ]
    },
    {
      "cell_type": "code",
      "source": [
        "#Placeholder in String\n",
        "name = \"jake\"\n",
        "sentence = \"%s is 15 year old\"\n",
        "\n",
        "print(sentence % name)\n",
        "\n",
        "sentence = \"%s %s is president of india\"\n",
        "print(sentence % (\"Droupadi\", \"Murmu\"))\n",
        "\n",
        "sentence = \"%s is %d year old\"\n",
        "print(sentence % (\"jake\" ,25))\n",
        "\n",
        "name = \"Avi\"\n",
        "print (f\"Hello,{name}\")\n",
        "\n",
        "x=10\n",
        "y=10\n",
        "\n",
        "print(f\"The sum of x and y is {x+y}\")"
      ],
      "metadata": {
        "colab": {
          "base_uri": "https://localhost:8080/"
        },
        "id": "WuqA25nSnbv1",
        "outputId": "bde1e04c-9c8d-4db1-f724-35a4ee84d380"
      },
      "execution_count": 7,
      "outputs": [
        {
          "output_type": "stream",
          "name": "stdout",
          "text": [
            "jake is 15 year old\n",
            "Droupadi Murmu is president of india\n",
            "jake is 25 year old\n",
            "Hello,Avi\n",
            "The sum of x and y is 20\n"
          ]
        }
      ]
    },
    {
      "cell_type": "code",
      "source": [
        "#Introduction to List\n",
        "\n",
        "shopping_list = ['apple' , 'Banana' ,'oranges', 'cheese']\n",
        "print(shopping_list)\n",
        "print(shopping_list[0])\n",
        "print(shopping_list[2])\n",
        "print(shopping_list[0:3])\n",
        "\n",
        "\n",
        "#list is mutable\n",
        "\n",
        "shopping_list.append('Blueberries') #Adding elements\n",
        "print(shopping_list)\n",
        "#replacing elements\n",
        "shopping_list[0] = 'cherries'\n",
        "print(shopping_list)\n",
        "\n",
        "#delete item in List\n",
        "del shopping_list[2]\n",
        "print(shopping_list)\n",
        "#length of List\n",
        "print(len(shopping_list))\n",
        "\n",
        "#combine 2 list\n",
        "shopping_list2 =['bread' , 'jam', 'peanut butter']\n",
        "print(shopping_list + shopping_list2)\n",
        "#multiply list\n",
        "print(shopping_list * 2)\n",
        "#max and min in list\n",
        "\n",
        "list_num = [1,4,7,23,6]\n",
        "print(max(list_num))\n",
        "print(min(list_num))\n",
        "\n",
        "#sorting list\n",
        "\n",
        "list_num.sort()\n",
        "print(list_num)\n",
        "\n",
        "list_num.sort(reverse = True)\n",
        "print(list_num)"
      ],
      "metadata": {
        "colab": {
          "base_uri": "https://localhost:8080/"
        },
        "id": "JTMXk3Nnv6lF",
        "outputId": "27e8ba55-e6aa-44a0-8c8d-94ffca8a673b"
      },
      "execution_count": 26,
      "outputs": [
        {
          "output_type": "stream",
          "name": "stdout",
          "text": [
            "['apple', 'Banana', 'oranges', 'cheese']\n",
            "apple\n",
            "oranges\n",
            "['apple', 'Banana', 'oranges']\n",
            "['apple', 'Banana', 'oranges', 'cheese', 'Blueberries']\n",
            "['cherries', 'Banana', 'oranges', 'cheese', 'Blueberries']\n",
            "['cherries', 'Banana', 'cheese', 'Blueberries']\n",
            "4\n",
            "['cherries', 'Banana', 'cheese', 'Blueberries', 'bread', 'jam', 'peanut butter']\n",
            "['cherries', 'Banana', 'cheese', 'Blueberries', 'cherries', 'Banana', 'cheese', 'Blueberries']\n",
            "23\n",
            "1\n",
            "[1, 4, 6, 7, 23]\n",
            "[23, 7, 6, 4, 1]\n"
          ]
        }
      ]
    },
    {
      "cell_type": "code",
      "source": [
        "# Intro to Dictionary\n",
        "\n",
        "students = {'bob':12,\n",
        "             'rachel' : 13,\n",
        "             'emily' :15\n",
        "            }\n",
        "print(students)\n",
        "print(students['rachel'])\n",
        "students['rachel'] = 14\n",
        "print(students)\n",
        "del students['emily']\n",
        "print(students)\n",
        "print(len(students))\n",
        "#if all key are same it will go to last one\n",
        "students = {'bob':12,\n",
        "             'bob' : 13,\n",
        "             'bob' :15\n",
        "            }\n",
        "print(students['bob'])"
      ],
      "metadata": {
        "id": "q3fClt6B0XxF",
        "outputId": "1aa26ea9-4bb7-4074-e755-584a9cd28db8",
        "colab": {
          "base_uri": "https://localhost:8080/"
        }
      },
      "execution_count": 31,
      "outputs": [
        {
          "output_type": "stream",
          "name": "stdout",
          "text": [
            "{'bob': 12, 'rachel': 13, 'emily': 15}\n",
            "13\n",
            "{'bob': 12, 'rachel': 14, 'emily': 15}\n",
            "{'bob': 12, 'rachel': 14}\n",
            "2\n",
            "15\n"
          ]
        }
      ]
    }
  ]
}